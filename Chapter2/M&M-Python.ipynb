{
 "cells": [
  {
   "cell_type": "code",
   "execution_count": 11,
   "id": "4914fe69",
   "metadata": {},
   "outputs": [],
   "source": [
    "import sys\n",
    "from pyspark.sql import SparkSession\n",
    "from pyspark.sql.functions import *\n",
    "\n",
    "spark = (SparkSession\n",
    "    .builder\n",
    "    .appName(\"PythonMnMCount\")\n",
    "    .getOrCreate())\n",
    "\n",
    "mnm_file = \"C:/Users/alice.marchi/Downloads/LearningSparkV2-master/chapter2/scala/data\"\n",
    "\n",
    "mnm_df = (spark.read.format(\"csv\")\n",
    " .option(\"header\", \"true\")\n",
    " .option(\"inferSchema\", \"true\")\n",
    " .load(mnm_file))\n"
   ]
  },
  {
   "cell_type": "code",
   "execution_count": 3,
   "id": "7659466c",
   "metadata": {},
   "outputs": [
    {
     "name": "stdout",
     "output_type": "stream",
     "text": [
      "+-----+------+-----+\n",
      "|State|Color |Total|\n",
      "+-----+------+-----+\n",
      "|CA   |Yellow|1807 |\n",
      "|WA   |Green |1779 |\n",
      "|OR   |Orange|1743 |\n",
      "|TX   |Green |1737 |\n",
      "|TX   |Red   |1725 |\n",
      "|CA   |Green |1723 |\n",
      "|CO   |Yellow|1721 |\n",
      "|CA   |Brown |1718 |\n",
      "|CO   |Green |1713 |\n",
      "|NV   |Orange|1712 |\n",
      "+-----+------+-----+\n",
      "only showing top 10 rows\n",
      "\n",
      "Total Rows = 60\n"
     ]
    }
   ],
   "source": [
    "count_mnm_df = (mnm_df\n",
    "    .select(\"State\", \"Color\", \"Count\")\n",
    "    .groupBy(\"State\", \"Color\")\n",
    "    .agg(count(\"Count\").alias(\"Total\"))\n",
    "    .orderBy(\"Total\", ascending=False))\n",
    "\n",
    "count_mnm_df.show(n=10, truncate=False)\n",
    "print(\"Total Rows = %d\" % (count_mnm_df.count()))"
   ]
  },
  {
   "cell_type": "code",
   "execution_count": 4,
   "id": "e2fa29a4",
   "metadata": {},
   "outputs": [
    {
     "name": "stdout",
     "output_type": "stream",
     "text": [
      "+-----+------+-----+\n",
      "|State|Color |Total|\n",
      "+-----+------+-----+\n",
      "|CA   |Yellow|1807 |\n",
      "|CA   |Green |1723 |\n",
      "|CA   |Brown |1718 |\n",
      "|CA   |Orange|1657 |\n",
      "|CA   |Red   |1656 |\n",
      "|CA   |Blue  |1603 |\n",
      "+-----+------+-----+\n",
      "\n"
     ]
    }
   ],
   "source": [
    "ca_count_mnm_df = (mnm_df\n",
    "    .select(\"State\", \"Color\", \"Count\")\n",
    "    .where(mnm_df.State == \"CA\")\n",
    "    .groupBy(\"State\", \"Color\")\n",
    "    .agg(count(\"Count\").alias(\"Total\"))\n",
    "    .orderBy(\"Total\", ascending=False))\n",
    "\n",
    "ca_count_mnm_df.show(n=10, truncate=False)"
   ]
  },
  {
   "cell_type": "code",
   "execution_count": 8,
   "id": "04db1629",
   "metadata": {},
   "outputs": [
    {
     "name": "stdout",
     "output_type": "stream",
     "text": [
      "+-----+------+-----+\n",
      "|State|Color |Total|\n",
      "+-----+------+-----+\n",
      "|TX   |Green |1737 |\n",
      "|TX   |Red   |1725 |\n",
      "|TX   |Yellow|1703 |\n",
      "|TX   |Orange|1652 |\n",
      "|TX   |Brown |1641 |\n",
      "|TX   |Blue  |1614 |\n",
      "+-----+------+-----+\n",
      "\n"
     ]
    }
   ],
   "source": [
    "tx_count_mnm_df = (mnm_df\n",
    "    .select(\"State\", \"Color\", \"Count\")\n",
    "    .where(mnm_df.State == \"TX\")\n",
    "    .groupBy(\"State\", \"Color\")\n",
    "    .agg(count(\"Count\").alias(\"Total\"))\n",
    "    .orderBy(\"Total\", ascending=False))\n",
    "\n",
    "tx_count_mnm_df.show(n=10, truncate=False)"
   ]
  },
  {
   "cell_type": "code",
   "execution_count": 27,
   "id": "7228d1fb",
   "metadata": {},
   "outputs": [
    {
     "name": "stdout",
     "output_type": "stream",
     "text": [
      "+-----+------+------------------+\n",
      "|State|Color |avg               |\n",
      "+-----+------+------------------+\n",
      "|NV   |Brown |55.81050090525045 |\n",
      "|NV   |Red   |55.4944099378882  |\n",
      "|NV   |Orange|54.865070093457945|\n",
      "|NV   |Yellow|54.561194029850746|\n",
      "|NV   |Blue  |53.797369994022716|\n",
      "|NV   |Green |53.78739693757362 |\n",
      "+-----+------+------------------+\n",
      "\n"
     ]
    }
   ],
   "source": [
    "nv_avg_mnm_df = (mnm_df\n",
    "    .select(\"State\", \"Color\", \"Count\")\n",
    "    .where(mnm_df.State == \"NV\")\n",
    "    .groupBy(\"State\", \"Color\")\n",
    "    .agg(avg(\"Count\").alias(\"avg\"))\n",
    "    .orderBy(\"avg\", ascending=False))\n",
    "\n",
    "nv_avg_mnm_df.show(n=10, truncate=False)"
   ]
  },
  {
   "cell_type": "code",
   "execution_count": 28,
   "id": "28c99117",
   "metadata": {},
   "outputs": [
    {
     "name": "stdout",
     "output_type": "stream",
     "text": [
      "+-----+------+-----+\n",
      "|State|Color |Total|\n",
      "+-----+------+-----+\n",
      "|CA   |Yellow|1807 |\n",
      "|WA   |Green |1779 |\n",
      "|OR   |Orange|1743 |\n",
      "|TX   |Green |1737 |\n",
      "|TX   |Red   |1725 |\n",
      "|CA   |Green |1723 |\n",
      "|CO   |Yellow|1721 |\n",
      "|CA   |Brown |1718 |\n",
      "|CO   |Green |1713 |\n",
      "|NV   |Orange|1712 |\n",
      "+-----+------+-----+\n",
      "only showing top 10 rows\n",
      "\n"
     ]
    }
   ],
   "source": [
    "states_count_mnm_df = (mnm_df\n",
    "    .select(\"State\", \"Color\", \"Count\")\n",
    "    .groupBy(\"State\", \"Color\")\n",
    "    .agg(count(\"Count\").alias(\"Total\"))\n",
    "    .orderBy(\"Total\", ascending=False))\n",
    "\n",
    "states_count_mnm_df.show(n=10, truncate=False)"
   ]
  },
  {
   "cell_type": "code",
   "execution_count": 29,
   "id": "a8c9ee23",
   "metadata": {},
   "outputs": [],
   "source": [
    "states_count_mnm_df.createOrReplaceTempView(\"states_count\")"
   ]
  },
  {
   "cell_type": "code",
   "execution_count": 30,
   "id": "de7c81e1",
   "metadata": {},
   "outputs": [
    {
     "data": {
      "text/plain": [
       "[Row(State='CA', Color='Yellow', Total=1807),\n",
       " Row(State='WA', Color='Green', Total=1779),\n",
       " Row(State='OR', Color='Orange', Total=1743),\n",
       " Row(State='TX', Color='Green', Total=1737),\n",
       " Row(State='TX', Color='Red', Total=1725)]"
      ]
     },
     "execution_count": 30,
     "metadata": {},
     "output_type": "execute_result"
    }
   ],
   "source": [
    "spark.sql(\"SELECT * from states_count\").take(5)"
   ]
  },
  {
   "cell_type": "code",
   "execution_count": 35,
   "id": "14fe28fd",
   "metadata": {},
   "outputs": [
    {
     "data": {
      "text/plain": [
       "[Row(State='CA', Color='Yellow', MaxTotal=1807),\n",
       " Row(State='WA', Color='Green', MaxTotal=1779),\n",
       " Row(State='OR', Color='Orange', MaxTotal=1743),\n",
       " Row(State='TX', Color='Green', MaxTotal=1737),\n",
       " Row(State='TX', Color='Red', MaxTotal=1725)]"
      ]
     },
     "execution_count": 35,
     "metadata": {},
     "output_type": "execute_result"
    }
   ],
   "source": [
    "spark.sql(\"SELECT State, Color, MAX(Total) AS MaxTotal FROM states_count GROUP BY State, Color ORDER BY MaxTotal DESC\").take(5)"
   ]
  },
  {
   "cell_type": "code",
   "execution_count": 36,
   "id": "1649c279",
   "metadata": {},
   "outputs": [
    {
     "data": {
      "text/plain": [
       "[Row(State='CA', Color='Yellow', MinTotal=1807),\n",
       " Row(State='WA', Color='Green', MinTotal=1779),\n",
       " Row(State='OR', Color='Orange', MinTotal=1743),\n",
       " Row(State='TX', Color='Green', MinTotal=1737),\n",
       " Row(State='TX', Color='Red', MinTotal=1725)]"
      ]
     },
     "execution_count": 36,
     "metadata": {},
     "output_type": "execute_result"
    }
   ],
   "source": [
    "spark.sql(\"SELECT State, Color, MIN(Total) AS MinTotal FROM states_count GROUP BY State, Color ORDER BY MinTotal DESC\").take(5)"
   ]
  },
  {
   "cell_type": "code",
   "execution_count": null,
   "id": "74a2b5ec",
   "metadata": {},
   "outputs": [],
   "source": []
  }
 ],
 "metadata": {
  "kernelspec": {
   "display_name": "Python 3 (ipykernel)",
   "language": "python",
   "name": "python3"
  },
  "language_info": {
   "codemirror_mode": {
    "name": "ipython",
    "version": 3
   },
   "file_extension": ".py",
   "mimetype": "text/x-python",
   "name": "python",
   "nbconvert_exporter": "python",
   "pygments_lexer": "ipython3",
   "version": "3.9.7"
  }
 },
 "nbformat": 4,
 "nbformat_minor": 5
}
