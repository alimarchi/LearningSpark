{
 "cells": [
  {
   "cell_type": "code",
   "execution_count": 2,
   "id": "733ad72d",
   "metadata": {},
   "outputs": [
    {
     "data": {
      "text/plain": [
       "mnmFile: String = C:/Users/alice.marchi/Downloads/LearningSparkV2-master/chapter2/scala/data\r\n"
      ]
     },
     "execution_count": 2,
     "metadata": {},
     "output_type": "execute_result"
    }
   ],
   "source": [
    "val mnmFile = (\"C:/Users/alice.marchi/Downloads/LearningSparkV2-master/chapter2/scala/data\")"
   ]
  },
  {
   "cell_type": "code",
   "execution_count": 3,
   "id": "b013794f",
   "metadata": {},
   "outputs": [
    {
     "data": {
      "text/plain": [
       "mnmDF: org.apache.spark.sql.DataFrame = [State: string, Color: string ... 1 more field]\r\n"
      ]
     },
     "execution_count": 3,
     "metadata": {},
     "output_type": "execute_result"
    }
   ],
   "source": [
    "val mnmDF = spark.read.format(\"csv\")\n",
    " .option(\"header\", \"true\")\n",
    " .option(\"inferSchema\", \"true\")\n",
    " .load(mnmFile)"
   ]
  },
  {
   "cell_type": "code",
   "execution_count": 4,
   "id": "d4228ef6",
   "metadata": {},
   "outputs": [
    {
     "data": {
      "text/plain": [
       "countMnMDF: org.apache.spark.sql.Dataset[org.apache.spark.sql.Row] = [State: string, Color: string ... 1 more field]\r\n"
      ]
     },
     "execution_count": 4,
     "metadata": {},
     "output_type": "execute_result"
    }
   ],
   "source": [
    "val countMnMDF = mnmDF\n",
    " .select(\"State\", \"Color\", \"Count\")\n",
    " .groupBy(\"State\", \"Color\")\n",
    " .agg(count(\"Count\").alias(\"Total\"))\n",
    " .orderBy(desc(\"Total\"))"
   ]
  },
  {
   "cell_type": "code",
   "execution_count": 5,
   "id": "5109aa0c",
   "metadata": {},
   "outputs": [
    {
     "name": "stdout",
     "output_type": "stream",
     "text": [
      "+-----+------+-----+\n",
      "|State| Color|Total|\n",
      "+-----+------+-----+\n",
      "|   CA|Yellow| 1807|\n",
      "|   WA| Green| 1779|\n",
      "|   OR|Orange| 1743|\n",
      "|   TX| Green| 1737|\n",
      "|   TX|   Red| 1725|\n",
      "|   CA| Green| 1723|\n",
      "|   CO|Yellow| 1721|\n",
      "|   CA| Brown| 1718|\n",
      "|   CO| Green| 1713|\n",
      "|   NV|Orange| 1712|\n",
      "+-----+------+-----+\n",
      "only showing top 10 rows\n",
      "\n",
      "Total Rows = 60\n",
      "\n"
     ]
    }
   ],
   "source": [
    "// All the aggregations for each M&M color for each state\n",
    "\n",
    "countMnMDF.show(10)\n",
    " println(s\"Total Rows = ${countMnMDF.count()}\")\n",
    " println()\n"
   ]
  },
  {
   "cell_type": "code",
   "execution_count": 6,
   "id": "169c93eb",
   "metadata": {},
   "outputs": [
    {
     "data": {
      "text/plain": [
       "caCountMnMDF: org.apache.spark.sql.Dataset[org.apache.spark.sql.Row] = [State: string, Color: string ... 1 more field]\r\n"
      ]
     },
     "execution_count": 6,
     "metadata": {},
     "output_type": "execute_result"
    }
   ],
   "source": [
    "// All the aggregations for each M&M color for California\n",
    "\n",
    "val caCountMnMDF = mnmDF\n",
    " .select(\"State\", \"Color\", \"Count\")\n",
    " .where(col(\"State\") === \"CA\")\n",
    " .groupBy(\"State\", \"Color\")\n",
    " .agg(count(\"Count\").alias(\"Total\"))\n",
    " .orderBy(desc(\"Total\"))"
   ]
  },
  {
   "cell_type": "code",
   "execution_count": 7,
   "id": "64672fd1",
   "metadata": {},
   "outputs": [
    {
     "name": "stdout",
     "output_type": "stream",
     "text": [
      "+-----+------+-----+\n",
      "|State| Color|Total|\n",
      "+-----+------+-----+\n",
      "|   CA|Yellow| 1807|\n",
      "|   CA| Green| 1723|\n",
      "|   CA| Brown| 1718|\n",
      "|   CA|Orange| 1657|\n",
      "|   CA|   Red| 1656|\n",
      "|   CA|  Blue| 1603|\n",
      "+-----+------+-----+\n",
      "\n"
     ]
    }
   ],
   "source": [
    "caCountMnMDF.show(10)"
   ]
  },
  {
   "cell_type": "code",
   "execution_count": 8,
   "id": "1286f360",
   "metadata": {},
   "outputs": [
    {
     "data": {
      "text/plain": [
       "txCountMnMDF: org.apache.spark.sql.Dataset[org.apache.spark.sql.Row] = [State: string, Color: string ... 1 more field]\r\n"
      ]
     },
     "execution_count": 8,
     "metadata": {},
     "output_type": "execute_result"
    }
   ],
   "source": [
    "// All the aggregations for each M&M color for Texas\n",
    "\n",
    "val txCountMnMDF = mnmDF\n",
    " .select(\"State\", \"Color\", \"Count\")\n",
    " .where(col(\"State\") === \"TX\")\n",
    " .groupBy(\"State\", \"Color\")\n",
    " .agg(count(\"Count\").alias(\"Total\"))\n",
    " .orderBy(desc(\"Total\"))"
   ]
  },
  {
   "cell_type": "code",
   "execution_count": 9,
   "id": "fc49b565",
   "metadata": {},
   "outputs": [
    {
     "name": "stdout",
     "output_type": "stream",
     "text": [
      "+-----+------+-----+\n",
      "|State| Color|Total|\n",
      "+-----+------+-----+\n",
      "|   TX| Green| 1737|\n",
      "|   TX|   Red| 1725|\n",
      "|   TX|Yellow| 1703|\n",
      "|   TX|Orange| 1652|\n",
      "|   TX| Brown| 1641|\n",
      "|   TX|  Blue| 1614|\n",
      "+-----+------+-----+\n",
      "\n"
     ]
    }
   ],
   "source": [
    "txCountMnMDF.show(10)"
   ]
  },
  {
   "cell_type": "code",
   "execution_count": 10,
   "id": "9848bd54",
   "metadata": {},
   "outputs": [
    {
     "data": {
      "text/plain": [
       "statesCountMnMDF: org.apache.spark.sql.Dataset[org.apache.spark.sql.Row] = [State: string, Color: string ... 1 more field]\r\n"
      ]
     },
     "execution_count": 10,
     "metadata": {},
     "output_type": "execute_result"
    }
   ],
   "source": [
    "// All the aggregations for each M&M color for Colorado and Nevada\n",
    "\n",
    "val statesCountMnMDF = mnmDF\n",
    " .select(\"State\", \"Color\", \"Count\")\n",
    " .where(col(\"State\") === \"CO\" or col(\"State\") === \"NV\")\n",
    " .groupBy(\"State\", \"Color\")\n",
    " .agg(count(\"Count\").alias(\"Total\"))\n",
    " .orderBy(desc(\"Total\"))"
   ]
  },
  {
   "cell_type": "code",
   "execution_count": 11,
   "id": "adbd44cb",
   "metadata": {},
   "outputs": [
    {
     "name": "stdout",
     "output_type": "stream",
     "text": [
      "+-----+------+-----+\n",
      "|State| Color|Total|\n",
      "+-----+------+-----+\n",
      "|   CO|Yellow| 1721|\n",
      "|   CO| Green| 1713|\n",
      "|   NV|Orange| 1712|\n",
      "|   NV| Green| 1698|\n",
      "|   CO|  Blue| 1695|\n",
      "|   NV|Yellow| 1675|\n",
      "|   NV|  Blue| 1673|\n",
      "|   NV| Brown| 1657|\n",
      "|   CO| Brown| 1656|\n",
      "|   CO|Orange| 1642|\n",
      "+-----+------+-----+\n",
      "only showing top 10 rows\n",
      "\n"
     ]
    }
   ],
   "source": [
    "statesCountMnMDF.show(10)"
   ]
  },
  {
   "cell_type": "code",
   "execution_count": 12,
   "id": "e208fd1f",
   "metadata": {},
   "outputs": [
    {
     "data": {
      "text/plain": [
       "maxMnMDF: org.apache.spark.sql.Dataset[org.apache.spark.sql.Row] = [State: string, Color: string ... 1 more field]\r\n"
      ]
     },
     "execution_count": 12,
     "metadata": {},
     "output_type": "execute_result"
    }
   ],
   "source": [
    "val maxMnMDF = mnmDF\n",
    " .select(\"State\", \"Color\", \"Count\")\n",
    " .groupBy(\"State\", \"Color\")\n",
    " .agg(max(\"Count\").alias(\"Max\"))\n",
    " .orderBy(desc(\"Max\"))"
   ]
  },
  {
   "cell_type": "code",
   "execution_count": 13,
   "id": "cc03162b",
   "metadata": {},
   "outputs": [
    {
     "name": "stdout",
     "output_type": "stream",
     "text": [
      "+-----+------+---+\n",
      "|State| Color|Max|\n",
      "+-----+------+---+\n",
      "|   WA|   Red|100|\n",
      "|   WY| Green|100|\n",
      "|   CA|  Blue|100|\n",
      "|   NV| Brown|100|\n",
      "|   NM| Green|100|\n",
      "|   NV|   Red|100|\n",
      "|   WA|Orange|100|\n",
      "|   UT|  Blue|100|\n",
      "|   WY|   Red|100|\n",
      "|   NM|Yellow|100|\n",
      "+-----+------+---+\n",
      "only showing top 10 rows\n",
      "\n"
     ]
    }
   ],
   "source": [
    "maxMnMDF.show(10)"
   ]
  },
  {
   "cell_type": "code",
   "execution_count": 14,
   "id": "990c7e69",
   "metadata": {},
   "outputs": [
    {
     "name": "stdout",
     "output_type": "stream",
     "text": [
      "+-----+------+-----+\n",
      "|State| Color|Count|\n",
      "+-----+------+-----+\n",
      "|   TX|   Red|   20|\n",
      "|   NV|  Blue|   66|\n",
      "|   CO|  Blue|   79|\n",
      "|   OR|  Blue|   71|\n",
      "|   WA|Yellow|   93|\n",
      "+-----+------+-----+\n",
      "only showing top 5 rows\n",
      "\n"
     ]
    }
   ],
   "source": [
    "mnmDF.show(5)"
   ]
  },
  {
   "cell_type": "code",
   "execution_count": 18,
   "id": "25485634",
   "metadata": {},
   "outputs": [
    {
     "name": "stdout",
     "output_type": "stream",
     "text": [
      "+-----+------+-----+---+\n",
      "|State| Color|Total|Max|\n",
      "+-----+------+-----+---+\n",
      "|   CA|Yellow| 1807|100|\n",
      "|   WA| Green| 1779|100|\n",
      "|   OR|Orange| 1743|100|\n",
      "|   TX| Green| 1737|100|\n",
      "|   TX|   Red| 1725|100|\n",
      "+-----+------+-----+---+\n",
      "only showing top 5 rows\n",
      "\n"
     ]
    },
    {
     "data": {
      "text/plain": [
       "maxtotalMnMDF: org.apache.spark.sql.Dataset[org.apache.spark.sql.Row] = [State: string, Color: string ... 2 more fields]\r\n"
      ]
     },
     "execution_count": 18,
     "metadata": {},
     "output_type": "execute_result"
    }
   ],
   "source": [
    "val maxtotalMnMDF = mnmDF\n",
    " .select(\"State\", \"Color\", \"Count\")\n",
    " .groupBy(\"State\", \"Color\")\n",
    " .agg(count(\"Count\").alias(\"Total\"), max(\"Count\").alias(\"Max\"))\n",
    " .orderBy(desc(\"Total\"))\n",
    "\n",
    "maxtotalMnMDF.show(5)"
   ]
  },
  {
   "cell_type": "code",
   "execution_count": 4,
   "id": "88d0fc4a",
   "metadata": {},
   "outputs": [
    {
     "name": "stdout",
     "output_type": "stream",
     "text": [
      "+----------+----------+----------+\n",
      "|max(Total)|min(Total)|avg(Total)|\n",
      "+----------+----------+----------+\n",
      "|      1807|      1532|   1666.65|\n",
      "+----------+----------+----------+\n",
      "\n"
     ]
    },
    {
     "data": {
      "text/plain": [
       "pruebaMnMDF: org.apache.spark.sql.DataFrame = [max(Total): bigint, min(Total): bigint ... 1 more field]\r\n"
      ]
     },
     "execution_count": 4,
     "metadata": {},
     "output_type": "execute_result"
    }
   ],
   "source": [
    "val pruebaMnMDF = mnmDF\n",
    " .select(\"State\", \"Color\", \"Count\")\n",
    " .groupBy(\"State\", \"Color\")\n",
    " .agg(count(\"Count\").alias(\"Total\"))\n",
    " .orderBy(desc(\"Total\"))\n",
    " .agg(max(\"Total\"), min(\"Total\"), avg(\"Total\"))\n",
    "\n",
    "pruebaMnMDF.show()"
   ]
  },
  {
   "cell_type": "markdown",
   "id": "39865326",
   "metadata": {},
   "source": [
    "SQL creando tempView"
   ]
  },
  {
   "cell_type": "code",
   "execution_count": 24,
   "id": "54d6de14",
   "metadata": {},
   "outputs": [
    {
     "data": {
      "text/plain": [
       "import org.apache.spark.sql.SparkSession\r\n",
       "spark: org.apache.spark.sql.SparkSession = org.apache.spark.sql.SparkSession@ae1746c\r\n",
       "csvFile: String = C:/Users/alice.marchi/Downloads/LearningSparkV2-master/chapter2/scala/data/mnm_dataset.csv\r\n",
       "df: org.apache.spark.sql.DataFrame = [State: string, Color: string ... 1 more field]\r\n"
      ]
     },
     "execution_count": 24,
     "metadata": {},
     "output_type": "execute_result"
    }
   ],
   "source": [
    "import org.apache.spark.sql.SparkSession            \n",
    "val spark = SparkSession\n",
    "  .builder\n",
    "  .appName(\"SparkSQLExampleApp\")\n",
    "  .getOrCreate()\n",
    "\n",
    "val csvFile=\"C:/Users/alice.marchi/Downloads/LearningSparkV2-master/chapter2/scala/data/mnm_dataset.csv\"\n",
    "\n",
    "val df = spark.read.format(\"csv\")\n",
    "  .option(\"inferSchema\", \"true\")\n",
    "  .option(\"header\", \"true\")\n",
    "  .load(csvFile)\n",
    "\n",
    "df.createOrReplaceTempView(\"mnm_tbl\")\n"
   ]
  },
  {
   "cell_type": "code",
   "execution_count": 25,
   "id": "866c8be4",
   "metadata": {},
   "outputs": [
    {
     "name": "stdout",
     "output_type": "stream",
     "text": [
      "+-----+------+-----+\n",
      "|State| Color|Count|\n",
      "+-----+------+-----+\n",
      "|   TX|   Red|   20|\n",
      "|   NV|  Blue|   66|\n",
      "|   CO|  Blue|   79|\n",
      "|   OR|  Blue|   71|\n",
      "|   WA|Yellow|   93|\n",
      "|   WY|  Blue|   16|\n",
      "|   CA|Yellow|   53|\n",
      "|   WA| Green|   60|\n",
      "|   OR| Green|   71|\n",
      "|   TX| Green|   68|\n",
      "+-----+------+-----+\n",
      "only showing top 10 rows\n",
      "\n"
     ]
    }
   ],
   "source": [
    "spark.sql(\"SELECT * FROM mnm_tbl\").show(10)"
   ]
  },
  {
   "cell_type": "code",
   "execution_count": 26,
   "id": "9b100d7b",
   "metadata": {},
   "outputs": [
    {
     "name": "stdout",
     "output_type": "stream",
     "text": [
      "+-----+------+\n",
      "|State| Color|\n",
      "+-----+------+\n",
      "|   TX|   Red|\n",
      "|   NV|  Blue|\n",
      "|   CO|  Blue|\n",
      "|   OR|  Blue|\n",
      "|   WA|Yellow|\n",
      "|   WY|  Blue|\n",
      "|   CA|Yellow|\n",
      "|   WA| Green|\n",
      "|   OR| Green|\n",
      "|   TX| Green|\n",
      "+-----+------+\n",
      "only showing top 10 rows\n",
      "\n"
     ]
    }
   ],
   "source": [
    "spark.sql(\"SELECT State, Color FROM mnm_tbl\").show(10)"
   ]
  },
  {
   "cell_type": "code",
   "execution_count": 29,
   "id": "8ad5c257",
   "metadata": {},
   "outputs": [
    {
     "name": "stdout",
     "output_type": "stream",
     "text": [
      "+-----+------+-----+\n",
      "|State| Color|Total|\n",
      "+-----+------+-----+\n",
      "|   CA|Yellow| 1807|\n",
      "|   WA| Green| 1779|\n",
      "|   OR|Orange| 1743|\n",
      "|   TX| Green| 1737|\n",
      "|   TX|   Red| 1725|\n",
      "|   CA| Green| 1723|\n",
      "|   CO|Yellow| 1721|\n",
      "|   CA| Brown| 1718|\n",
      "|   CO| Green| 1713|\n",
      "|   NV|Orange| 1712|\n",
      "+-----+------+-----+\n",
      "only showing top 10 rows\n",
      "\n"
     ]
    }
   ],
   "source": [
    "spark.sql(\"SELECT State, Color, COUNT(Count) AS Total FROM mnm_tbl GROUP BY State, Color ORDER BY Total DESC\").show(10)"
   ]
  },
  {
   "cell_type": "code",
   "execution_count": 31,
   "id": "43d9b081",
   "metadata": {},
   "outputs": [
    {
     "name": "stdout",
     "output_type": "stream",
     "text": [
      "+-----+------+-----+------------------+\n",
      "|State| Color|Total|          AvgCount|\n",
      "+-----+------+-----+------------------+\n",
      "|   CA|Yellow| 1807|  55.8693967902601|\n",
      "|   WA| Green| 1779| 54.23608768971332|\n",
      "|   OR|Orange| 1743| 54.22489959839358|\n",
      "|   TX| Green| 1737| 55.12550374208405|\n",
      "|   TX|   Red| 1725|55.306666666666665|\n",
      "|   CA| Green| 1723|54.268717353453276|\n",
      "|   CO|Yellow| 1721| 55.22254503195816|\n",
      "|   CA| Brown| 1718|55.740395809080326|\n",
      "|   CO| Green| 1713| 54.71336835960304|\n",
      "|   NV|Orange| 1712|54.865070093457945|\n",
      "+-----+------+-----+------------------+\n",
      "only showing top 10 rows\n",
      "\n"
     ]
    }
   ],
   "source": [
    "spark.sql(\"SELECT State, Color, COUNT(Count) AS Total, AVG(Count) AS AvgCount FROM mnm_tbl GROUP BY State, Color ORDER BY Total DESC\").show(10)"
   ]
  },
  {
   "cell_type": "code",
   "execution_count": null,
   "id": "7d6e19a9",
   "metadata": {},
   "outputs": [],
   "source": []
  }
 ],
 "metadata": {
  "kernelspec": {
   "display_name": "spylon-kernel",
   "language": "scala",
   "name": "spylon-kernel"
  },
  "language_info": {
   "codemirror_mode": "text/x-scala",
   "file_extension": ".scala",
   "help_links": [
    {
     "text": "MetaKernel Magics",
     "url": "https://metakernel.readthedocs.io/en/latest/source/README.html"
    }
   ],
   "mimetype": "text/x-scala",
   "name": "scala",
   "pygments_lexer": "scala",
   "version": "0.4.1"
  }
 },
 "nbformat": 4,
 "nbformat_minor": 5
}
